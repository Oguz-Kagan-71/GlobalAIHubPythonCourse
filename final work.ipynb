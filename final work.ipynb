{
 "cells": [
  {
   "cell_type": "code",
   "execution_count": 11,
   "metadata": {},
   "outputs": [],
   "source": [
    "class yemek():\n",
    "    def __init__(self):\n",
    "        print(\"yemek init fonksiyonu cagrıldı\")\n",
    "    def paketServis(self):\n",
    "        return \"paket servis hizmetimize dahildir\""
   ]
  },
  {
   "cell_type": "code",
   "execution_count": 12,
   "metadata": {},
   "outputs": [],
   "source": [
    "class döner(yemek):\n",
    "    def __init__ (self,tür,porsiyon):\n",
    "        print(\"döner init fonksiyonu cagrıldı\")\n",
    "        yemek.__init__(self)\n",
    "        self.tür= tür #dürüm mü ekmek mi türden kasıt\n",
    "        self.porsiyon= porsiyon #1 , 1.5 \n",
    "        \n",
    "    def çeşitlerimiz(self):\n",
    "        print(\"hatay usülü,et döner, tavuk döner, vegan döner çeşitlerimiz mevcuttur\")\n",
    "        "
   ]
  },
  {
   "cell_type": "code",
   "execution_count": 16,
   "metadata": {},
   "outputs": [],
   "source": [
    "class tantuni(yemek):\n",
    "    def __init__(self,tür,porsiyon):\n",
    "        print(\"tantuni init fonksiyonu çağrıldı\")\n",
    "        yemek.__init__(self)\n",
    "        self.tür= tür #dürüm mü ekmek mi türden kasıt\n",
    "        self.porsiyon= porsiyon\n",
    "    def çeşitlerimiz(self):\n",
    "        print(\"et, tavuk, vegan çeşitlerimiz mevcuttur\")    "
   ]
  },
  {
   "cell_type": "code",
   "execution_count": 17,
   "metadata": {},
   "outputs": [
    {
     "name": "stdout",
     "output_type": "stream",
     "text": [
      "tantuni init fonksiyonu çağrıldı\n",
      "yemek init fonksiyonu cagrıldı\n"
     ]
    }
   ],
   "source": [
    "sipariş1= tantuni(\"dürüm\",1)"
   ]
  },
  {
   "cell_type": "code",
   "execution_count": 18,
   "metadata": {},
   "outputs": [
    {
     "data": {
      "text/plain": [
       "'paket servis hizmetimize dahildir'"
      ]
     },
     "execution_count": 18,
     "metadata": {},
     "output_type": "execute_result"
    }
   ],
   "source": [
    "sipariş1.paketServis()"
   ]
  },
  {
   "cell_type": "code",
   "execution_count": 19,
   "metadata": {},
   "outputs": [
    {
     "name": "stdout",
     "output_type": "stream",
     "text": [
      "et, tavuk, vegan çeşitlerimiz mevcuttur\n"
     ]
    }
   ],
   "source": [
    "sipariş1.çeşitlerimiz()"
   ]
  },
  {
   "cell_type": "code",
   "execution_count": null,
   "metadata": {},
   "outputs": [],
   "source": []
  }
 ],
 "metadata": {
  "kernelspec": {
   "display_name": "Python 3",
   "language": "python",
   "name": "python3"
  },
  "language_info": {
   "codemirror_mode": {
    "name": "ipython",
    "version": 3
   },
   "file_extension": ".py",
   "mimetype": "text/x-python",
   "name": "python",
   "nbconvert_exporter": "python",
   "pygments_lexer": "ipython3",
   "version": "3.8.5"
  }
 },
 "nbformat": 4,
 "nbformat_minor": 4
}
